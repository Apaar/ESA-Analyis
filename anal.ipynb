{
 "cells": [
  {
   "cell_type": "code",
   "execution_count": 3,
   "metadata": {},
   "outputs": [],
   "source": [
    "import pandas as pd\n",
    "#loading csv\n",
    "new = pd.read_csv('CSEResults.csv',names=['USN','GPA_new'])\n",
    "old= pd.read_csv('data_all350.csv',names=['USN','GPA_old'])"
   ]
  },
  {
   "cell_type": "code",
   "execution_count": 4,
   "metadata": {},
   "outputs": [
    {
     "name": "stdout",
     "output_type": "stream",
     "text": [
      "                 USN GPA_old\n",
      "count            350     350\n",
      "unique           350     123\n",
      "top     01FB14ECS008    8.45\n",
      "freq               1      10\n",
      "                 USN GPA_new\n",
      "count            351     351\n",
      "unique           351     120\n",
      "top     01FB14ECS008    8.86\n",
      "freq               1      13\n"
     ]
    }
   ],
   "source": [
    "#data clean up(removing TAL) ignore top in decirbe as it is sorting the usn and not the gpa\n",
    "old = old[old.GPA_old != 'TAL']\n",
    "new = new[new.GPA_new != 'TAL']\n",
    "print(old.describe())\n",
    "print(new.describe())"
   ]
  },
  {
   "cell_type": "code",
   "execution_count": 5,
   "metadata": {},
   "outputs": [
    {
     "name": "stdout",
     "output_type": "stream",
     "text": [
      "              USN  GPA_old  GPA_new\n",
      "105  01FB14ECS246      8.5     8.55\n"
     ]
    }
   ],
   "source": [
    "#doing join based on usn\n",
    "total_data = pd.merge(old,new,on='USN')\n",
    "total_data['GPA_new'] = total_data['GPA_new'].apply(float)\n",
    "total_data['GPA_old'] = total_data['GPA_old'].apply(float)\n",
    "print(total_data.sample())"
   ]
  },
  {
   "cell_type": "code",
   "execution_count": 6,
   "metadata": {},
   "outputs": [
    {
     "name": "stdout",
     "output_type": "stream",
     "text": [
      "              USN  GPA_old  GPA_new  diff\n",
      "130  01FB14ECS122     8.32     8.64  0.32\n"
     ]
    }
   ],
   "source": [
    "#creating a new column with difference\n",
    "total_data['diff'] = total_data['GPA_new'] - total_data['GPA_old']\n",
    "print(total_data.sample())"
   ]
  },
  {
   "cell_type": "code",
   "execution_count": 7,
   "metadata": {},
   "outputs": [
    {
     "name": "stdout",
     "output_type": "stream",
     "text": [
      "              USN  GPA_old  GPA_new  diff\n",
      "342  01FB14ECS112     2.06     3.56  1.50\n",
      "326  01FB15ECS408     4.32     5.77  1.45\n",
      "341  01FB14ECS036     2.10     3.15  1.05\n",
      "296  01FB14ECS174     6.00     7.00  1.00\n",
      "248  01FB15ECS432     6.68     7.55  0.87\n",
      "226  01FB14ECS157     7.09     7.91  0.82\n",
      "260  01FB14ECS016     6.55     7.32  0.77\n",
      "282  01FB14ECS127     6.23     7.00  0.77\n",
      "204  01FB14ECS051     7.32     8.05  0.73\n",
      "217  01FB14ECS219     7.18     7.91  0.73\n",
      "297  01FB14ECS249     6.00     6.73  0.73\n",
      "198  01FB14ECS116     7.45     8.18  0.73\n",
      "238  01FB14ECS301     6.86     7.59  0.73\n",
      "220  01FB14ECS067     7.14     7.86  0.72\n",
      "285  01FB15ECS404     6.23     6.95  0.72\n",
      "312  01FB14ECS142     5.55     6.27  0.72\n",
      "325  01FB14ECS092     4.36     5.05  0.69\n",
      "263  01FB15ECS438     6.55     7.23  0.68\n",
      "284  01FB14ECS259     6.23     6.91  0.68\n",
      "314  01FB15ECS418     5.32     6.00  0.68\n"
     ]
    }
   ],
   "source": [
    "#printing top 20 gainers\n",
    "print(total_data.nlargest(20,'diff'))"
   ]
  },
  {
   "cell_type": "code",
   "execution_count": 14,
   "metadata": {},
   "outputs": [
    {
     "data": {
      "image/png": "[encoded data removed]",
      "text/plain": [
       "<matplotlib.figure.Figure at 0x7f514c016358>"
      ]
     },
     "metadata": {},
     "output_type": "display_data"
    }
   ],
   "source": [
    "#graphing general gpa trend\n",
    "import matplotlib.pyplot as plt\n",
    "\n",
    "plt.plot([g for g in range(len(total_data['GPA_new']))],total_data.sort_values('GPA_new',ascending=False).GPA_new, color='b')\n",
    "plt.show()"
   ]
  },
  {
   "cell_type": "code",
   "execution_count": 9,
   "metadata": {},
   "outputs": [
    {
     "name": "stdout",
     "output_type": "stream",
     "text": [
      "Fequency of difference in GPA\n"
     ]
    },
    {
     "data": {
      "image/png": "[encoded data removed]",
      "text/plain": [
       "<matplotlib.figure.Figure at 0x7f5151838518>"
      ]
     },
     "metadata": {},
     "output_type": "display_data"
    },
    {
     "name": "stdout",
     "output_type": "stream",
     "text": [
      "Frequency of New GPA\n"
     ]
    },
    {
     "data": {
      "image/png": "[encoded data removed]",
      "text/plain": [
       "<matplotlib.figure.Figure at 0x7f514c475d30>"
      ]
     },
     "metadata": {},
     "output_type": "display_data"
    },
    {
     "name": "stdout",
     "output_type": "stream",
     "text": [
      "Frequency of Old GPA\n"
     ]
    },
    {
     "data": {
      "image/png": "[encoded data removed]",
      "text/plain": [
       "<matplotlib.figure.Figure at 0x7f514c217978>"
      ]
     },
     "metadata": {},
     "output_type": "display_data"
    }
   ],
   "source": [
    "#graphing number of people at each gpa and difference\n",
    "print('Fequency of difference in GPA')\n",
    "plt.hist(total_data['diff'],len(total_data.groupby('diff').count().GPA_new))\n",
    "plt.show()\n",
    "print('Frequency of New GPA')\n",
    "plt.hist(total_data['GPA_new'],120)\n",
    "plt.show()\n",
    "print('Frequency of Old GPA')\n",
    "plt.hist(total_data['GPA_old'],123)\n",
    "plt.show()\n",
    "\n"
   ]
  },
  {
   "cell_type": "code",
   "execution_count": 10,
   "metadata": {},
   "outputs": [
    {
     "name": "stdout",
     "output_type": "stream",
     "text": [
      "Number of people above 5 : 319\n",
      "Number of people above 6 : 309\n",
      "Number of people above 7 : 263\n",
      "Number of people above 8 : 184\n",
      "Number of people above 9 : 70\n"
     ]
    }
   ],
   "source": [
    "# number of people above n\n",
    "\n",
    "for n in range(5,10):\n",
    "    print('Number of people above '+str(n)+' : '+str(len(total_data[total_data.GPA_new > n])))"
   ]
  },
  {
   "cell_type": "code",
   "execution_count": 11,
   "metadata": {},
   "outputs": [
    {
     "name": "stdout",
     "output_type": "stream",
     "text": [
      "Number of people :350\n",
      "mean GPA :7.71974285714\n",
      "Standard deviation :1.73557590324\n",
      "Variance :3.01222371592\n"
     ]
    }
   ],
   "source": [
    "#descriptive stats like mean ,st.dev etc\n",
    "print('Number of people :' + str(total_data.GPA_new.count()))\n",
    "print('mean GPA :' + str(total_data.GPA_new.mean()))\n",
    "print('Standard deviation :'+str(total_data.GPA_new.std()))\n",
    "print('Variance :'+str(total_data.GPA_new.var()))"
   ]
  },
  {
   "cell_type": "code",
   "execution_count": 12,
   "metadata": {},
   "outputs": [
    {
     "name": "stdout",
     "output_type": "stream",
     "text": [
      "Top 70 people should get scholarship\n",
      "Cuttoff : 9.05\n",
      "\n",
      "List of people who should get(sorted by gpa)\n",
      "01FB14ECS046\n",
      "01FB14ECS130\n",
      "01FB14ECS033\n",
      "01FB14ECS088\n",
      "01FB14ECS161\n",
      "01FB14ECS173\n",
      "01FB14ECS070\n",
      "01FB14ECS084\n",
      "01FB14ECS217\n",
      "01FB14ECS055\n",
      "01FB14ECS251\n",
      "01FB14ECS262\n",
      "01FB14ECS008\n",
      "01FB14ECS183\n",
      "01FB14ECS225\n",
      "01FB14ECS214\n",
      "01FB14ECS114\n",
      "01FB14ECS015\n",
      "01FB14ECS061\n",
      "01FB14ECS240\n",
      "01FB14ECS058\n",
      "01FB14ECS177\n",
      "01FB14ECS009\n",
      "01FB14ECS210\n",
      "01FB14ECS273\n",
      "01FB14ECS162\n",
      "01FB14ECS168\n",
      "01FB14ECS026\n",
      "01FB14ECS184\n",
      "01FB14ECS004\n",
      "01FB14ECS039\n",
      "01FB14ECS089\n",
      "01FB14ECS135\n",
      "01FB14ECS211\n",
      "01FB14ECS040\n",
      "01FB14ECS208\n",
      "01FB14ECS191\n",
      "01FB14ECS073\n",
      "01FB14ECS068\n",
      "01FB14ECS106\n",
      "01FB14ECS283\n",
      "01FB14ECS103\n",
      "01FB14ECS290\n",
      "01FB14ECS077\n",
      "01FB14ECS124\n",
      "01FB14ECS021\n",
      "01FB14ECS187\n",
      "01FB14ECS278\n",
      "01FB14ECS030\n",
      "01FB14ECS202\n",
      "01FB14ECS137\n",
      "01FB14ECS018\n",
      "01FB14ECS037\n",
      "01FB14ECS156\n",
      "01FB14ECS302\n",
      "01FB14ECS153\n",
      "01FB14ECS087\n",
      "01FB14ECS066\n",
      "01FB14ECS029\n",
      "01FB14ECS100\n",
      "01FB14ECS155\n",
      "01FB14ECS148\n",
      "01FB14ECS166\n",
      "01FB14ECS079\n",
      "01FB14ECS298\n",
      "01FB14ECS190\n",
      "01FB14ECS017\n",
      "01FB14ECS239\n",
      "01FB14ECS180\n",
      "01FB14ECS248\n"
     ]
    }
   ],
   "source": [
    "#who will get scholarship finding top 20% this is for only declared grades and last few/cuttoff is tenatative\n",
    "print('Top '+str(int(total_data.GPA_new.count()/5))+' people should get scholarship')\n",
    "print('Cuttoff : '+str(total_data.sort_values('GPA_new',ascending=False).GPA_new.iloc[67] ))\n",
    "print()\n",
    "print('List of people who should get(sorted by gpa)')\n",
    "for n in range (70):\n",
    "    print(total_data.sort_values('GPA_new',ascending=False).USN.iloc[n] )"
   ]
  },
  {
   "cell_type": "code",
   "execution_count": null,
   "metadata": {
    "collapsed": true
   },
   "outputs": [],
   "source": []
  }
 ],
 "metadata": {
  "kernelspec": {
   "display_name": "Python 3",
   "language": "python",
   "name": "python3"
  },
  "language_info": {
   "codemirror_mode": {
    "name": "ipython",
    "version": 3
   },
   "file_extension": ".py",
   "mimetype": "text/x-python",
   "name": "python",
   "nbconvert_exporter": "python",
   "pygments_lexer": "ipython3",
   "version": "3.5.2"
  }
 },
 "nbformat": 4,
 "nbformat_minor": 2
}
