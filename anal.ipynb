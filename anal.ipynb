{
 "cells": [
  {
   "cell_type": "code",
   "execution_count": 16,
   "metadata": {},
   "outputs": [],
   "source": [
    "import pandas as pd\n",
    "#loading csv\n",
    "new = pd.read_csv('CSEResults.csv',names=['USN','GPA_new'])\n",
    "old= pd.read_csv('data_all350.csv',names=['USN','GPA_old'])"
   ]
  },
  {
   "cell_type": "code",
   "execution_count": 19,
   "metadata": {},
   "outputs": [
    {
     "name": "stdout",
     "output_type": "stream",
     "text": [
      "                 USN GPA_old\n",
      "count            350     350\n",
      "unique           350     123\n",
      "top     01FB14ECS267    8.45\n",
      "freq               1      10\n",
      "                 USN GPA_new\n",
      "count            351     351\n",
      "unique           351     120\n",
      "top     01FB14ECS267    8.86\n",
      "freq               1      13\n"
     ]
    }
   ],
   "source": [
    "#data clean up(removing TAL) ignore top in decirbe as it is sorting the usn and not the gpa\n",
    "old = old[old.GPA_old != 'TAL']\n",
    "new = new[new.GPA_new != 'TAL']\n",
    "print(old.describe())\n",
    "print(new.describe())"
   ]
  },
  {
   "cell_type": "code",
   "execution_count": 30,
   "metadata": {},
   "outputs": [
    {
     "name": "stdout",
     "output_type": "stream",
     "text": [
      "             USN  GPA_old  GPA_new\n",
      "79  01FB14ECS190     8.82     9.05\n"
     ]
    }
   ],
   "source": [
    "#doing join based on usn\n",
    "total_data = pd.merge(old,new,on='USN')\n",
    "total_data['GPA_new'] = total_data['GPA_new'].apply(float)\n",
    "total_data['GPA_old'] = total_data['GPA_old'].apply(float)\n",
    "print(total_data.sample())"
   ]
  },
  {
   "cell_type": "code",
   "execution_count": 32,
   "metadata": {},
   "outputs": [
    {
     "name": "stdout",
     "output_type": "stream",
     "text": [
      "             USN  GPA_old  GPA_new  diff\n",
      "85  01FB14ECS032     8.73     8.86  0.13\n"
     ]
    }
   ],
   "source": [
    "#creating a new column with difference\n",
    "total_data['diff'] = total_data['GPA_new'] - total_data['GPA_old']\n",
    "print(total_data.sample())"
   ]
  },
  {
   "cell_type": "code",
   "execution_count": 34,
   "metadata": {},
   "outputs": [
    {
     "name": "stdout",
     "output_type": "stream",
     "text": [
      "              USN  GPA_old  GPA_new  diff\n",
      "342  01FB14ECS112     2.06     3.56  1.50\n",
      "326  01FB15ECS408     4.32     5.77  1.45\n",
      "341  01FB14ECS036     2.10     3.15  1.05\n",
      "296  01FB14ECS174     6.00     7.00  1.00\n",
      "248  01FB15ECS432     6.68     7.55  0.87\n",
      "226  01FB14ECS157     7.09     7.91  0.82\n",
      "260  01FB14ECS016     6.55     7.32  0.77\n",
      "282  01FB14ECS127     6.23     7.00  0.77\n",
      "204  01FB14ECS051     7.32     8.05  0.73\n",
      "217  01FB14ECS219     7.18     7.91  0.73\n",
      "297  01FB14ECS249     6.00     6.73  0.73\n",
      "198  01FB14ECS116     7.45     8.18  0.73\n",
      "238  01FB14ECS301     6.86     7.59  0.73\n",
      "220  01FB14ECS067     7.14     7.86  0.72\n",
      "285  01FB15ECS404     6.23     6.95  0.72\n",
      "312  01FB14ECS142     5.55     6.27  0.72\n",
      "325  01FB14ECS092     4.36     5.05  0.69\n",
      "263  01FB15ECS438     6.55     7.23  0.68\n",
      "284  01FB14ECS259     6.23     6.91  0.68\n",
      "314  01FB15ECS418     5.32     6.00  0.68\n"
     ]
    }
   ],
   "source": [
    "#printing top 20 gainers\n",
    "print(total_data.nlargest(20,'diff'))"
   ]
  },
  {
   "cell_type": "code",
   "execution_count": 37,
   "metadata": {},
   "outputs": [
    {
     "data": {
      "image/png": "[encoded data removed]",
      "text/plain": [
       "<matplotlib.figure.Figure at 0x7f51374c6898>"
      ]
     },
     "metadata": {},
     "output_type": "display_data"
    }
   ],
   "source": [
    "#graphing general gpa trend\n",
    "import matplotlib.pyplot as plt\n",
    "\n",
    "plt.plot([g for g in range(len(total_data['GPA_new']))],total_data['GPA_new'], color='b')\n",
    "plt.show()"
   ]
  },
  {
   "cell_type": "code",
   "execution_count": 48,
   "metadata": {},
   "outputs": [
    {
     "name": "stdout",
     "output_type": "stream",
     "text": [
      "Fequency of difference in GPA\n"
     ]
    },
    {
     "data": {
      "image/png": "[encoded data removed]",
      "text/plain": [
       "<matplotlib.figure.Figure at 0x7f50fe038ba8>"
      ]
     },
     "metadata": {},
     "output_type": "display_data"
    },
    {
     "name": "stdout",
     "output_type": "stream",
     "text": [
      "Frequency of New GPA\n"
     ]
    },
    {
     "data": {
      "image/png": "[encoded data removed]",
      "text/plain": [
       "<matplotlib.figure.Figure at 0x7f50fdcc9ac8>"
      ]
     },
     "metadata": {},
     "output_type": "display_data"
    },
    {
     "name": "stdout",
     "output_type": "stream",
     "text": [
      "Frequency of Old GPA\n"
     ]
    },
    {
     "data": {
      "image/png": "[encoded data removed]",
      "text/plain": [
       "<matplotlib.figure.Figure at 0x7f50fe30a470>"
      ]
     },
     "metadata": {},
     "output_type": "display_data"
    }
   ],
   "source": [
    "#graphing number of people at each gpa and difference\n",
    "print('Fequency of difference in GPA')\n",
    "plt.hist(total_data['diff'],len(total_data.groupby('diff').count().GPA_new))\n",
    "plt.show()\n",
    "print('Frequency of New GPA')\n",
    "plt.hist(total_data['GPA_new'],120)\n",
    "plt.show()\n",
    "print('Frequency of Old GPA')\n",
    "plt.hist(total_data['GPA_old'],123)\n",
    "plt.show()\n",
    "\n"
   ]
  },
  {
   "cell_type": "code",
   "execution_count": null,
   "metadata": {
    "collapsed": true
   },
   "outputs": [],
   "source": []
  }
 ],
 "metadata": {
  "kernelspec": {
   "display_name": "Python 3",
   "language": "python",
   "name": "python3"
  },
  "language_info": {
   "codemirror_mode": {
    "name": "ipython",
    "version": 3
   },
   "file_extension": ".py",
   "mimetype": "text/x-python",
   "name": "python",
   "nbconvert_exporter": "python",
   "pygments_lexer": "ipython3",
   "version": "3.5.2"
  }
 },
 "nbformat": 4,
 "nbformat_minor": 2
}
